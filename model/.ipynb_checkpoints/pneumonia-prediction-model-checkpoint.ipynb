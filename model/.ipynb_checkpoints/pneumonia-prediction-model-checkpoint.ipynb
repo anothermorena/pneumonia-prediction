{
 "cells": [
  {
   "cell_type": "markdown",
   "id": "bc1f4010",
   "metadata": {},
   "source": [
    "### <center> Pneumonia/Lung Disease Prediction/Classification </center>\n",
    "\n",
    "<b> Problem Statement</b>: In this project we have chest x-ray images of patients with lung disease(pneumonia) and those which do not have lung disease(normal).The aim is to build a convulutional neural network(CNN) model to predict or classify the images into the aforementioned classes and test our model with live data. This model will be served with a Rest API developed in python's FastAPI. Then, React Js and React Native clients will also be developed to consume the API.\n",
    "\n",
    "\n",
    "An Otsogile Ogaisitse Onalepelo aka Morena Project"
   ]
  },
  {
   "cell_type": "code",
   "execution_count": null,
   "id": "dac0732d",
   "metadata": {},
   "outputs": [],
   "source": []
  }
 ],
 "metadata": {
  "kernelspec": {
   "display_name": "Python 3 (ipykernel)",
   "language": "python",
   "name": "python3"
  },
  "language_info": {
   "codemirror_mode": {
    "name": "ipython",
    "version": 3
   },
   "file_extension": ".py",
   "mimetype": "text/x-python",
   "name": "python",
   "nbconvert_exporter": "python",
   "pygments_lexer": "ipython3",
   "version": "3.9.12"
  }
 },
 "nbformat": 4,
 "nbformat_minor": 5
}
